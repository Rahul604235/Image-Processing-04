{
 "cells": [
  {
   "cell_type": "markdown",
   "metadata": {},
   "source": [
    "# Space-variant blurring"
   ]
  },
  {
   "cell_type": "code",
   "execution_count": 1,
   "metadata": {},
   "outputs": [],
   "source": [
    "# Numpy, Pillow, Imageio, math libraries were used to do the following program. \n",
    "import numpy as np\n",
    "from PIL import Image\n",
    "from matplotlib import pyplot as plt\n",
    "import cv2\n",
    "import math"
   ]
  },
  {
   "cell_type": "code",
   "execution_count": 2,
   "metadata": {},
   "outputs": [],
   "source": [
    "# Globe_image was opened using pillow library.\n",
    "Globe_image=Image.open('Globe.png')"
   ]
  },
  {
   "cell_type": "code",
   "execution_count": 3,
   "metadata": {},
   "outputs": [
    {
     "data": {
      "image/png": "[encoded data removed]",
      "text/plain": [
       "<PIL.PngImagePlugin.PngImageFile image mode=L size=195x195 at 0x225BCF58E08>"
      ]
     },
     "execution_count": 3,
     "metadata": {},
     "output_type": "execute_result"
    }
   ],
   "source": [
    "#This is Globe_image\n",
    "Globe_image"
   ]
  },
  {
   "cell_type": "code",
   "execution_count": 4,
   "metadata": {},
   "outputs": [],
   "source": [
    "#Converts image into matrix.\n",
    "F_matrix=np.array(Globe_image)"
   ]
  },
  {
   "cell_type": "code",
   "execution_count": 5,
   "metadata": {},
   "outputs": [
    {
     "data": {
      "text/plain": [
       "array([[133, 154, 160, ..., 146, 149, 152],\n",
       "       [146, 164, 163, ..., 160, 157, 150],\n",
       "       [148, 164, 162, ..., 156, 155, 155],\n",
       "       ...,\n",
       "       [151, 153, 145, ..., 146, 117, 127],\n",
       "       [154, 151, 140, ..., 122, 141, 176],\n",
       "       [152, 151, 149, ..., 179, 177, 169]], dtype=uint8)"
      ]
     },
     "execution_count": 5,
     "metadata": {},
     "output_type": "execute_result"
    }
   ],
   "source": [
    "#F_matrix\n",
    "F_matrix"
   ]
  },
  {
   "cell_type": "code",
   "execution_count": 6,
   "metadata": {},
   "outputs": [],
   "source": [
    "#M,N siginifies rows and columns of the F_matrix using shape function.\n",
    "M,N=F_matrix.shape"
   ]
  },
  {
   "cell_type": "code",
   "execution_count": 7,
   "metadata": {},
   "outputs": [
    {
     "data": {
      "text/plain": [
       "(195, 195)"
      ]
     },
     "execution_count": 7,
     "metadata": {},
     "output_type": "execute_result"
    }
   ],
   "source": [
    "M,N"
   ]
  },
  {
   "cell_type": "code",
   "execution_count": 8,
   "metadata": {},
   "outputs": [],
   "source": [
    "#Zero matrix of M*N is created and assigned as G_matrix.\n",
    "G_matrix=np.zeros((M,N))"
   ]
  },
  {
   "cell_type": "code",
   "execution_count": 9,
   "metadata": {},
   "outputs": [],
   "source": [
    "#Zero matrix of M*N is created and assigned as sigma_matrix.\n",
    "#This is sigma_map\n",
    "Sigma_matrix=np.zeros((M,N))"
   ]
  },
  {
   "cell_type": "code",
   "execution_count": 10,
   "metadata": {},
   "outputs": [
    {
     "data": {
      "text/plain": [
       "array([[0., 0., 0., ..., 0., 0., 0.],\n",
       "       [0., 0., 0., ..., 0., 0., 0.],\n",
       "       [0., 0., 0., ..., 0., 0., 0.],\n",
       "       ...,\n",
       "       [0., 0., 0., ..., 0., 0., 0.],\n",
       "       [0., 0., 0., ..., 0., 0., 0.],\n",
       "       [0., 0., 0., ..., 0., 0., 0.]])"
      ]
     },
     "execution_count": 10,
     "metadata": {},
     "output_type": "execute_result"
    }
   ],
   "source": [
    "#G_matrix\n",
    "G_matrix"
   ]
  },
  {
   "cell_type": "markdown",
   "metadata": {},
   "source": [
    "Sigma-map"
   ]
  },
  {
   "cell_type": "code",
   "execution_count": 11,
   "metadata": {},
   "outputs": [],
   "source": [
    "#code to find out A,B constants.\n",
    "#In the sigma list first two element signifies n,m and last element signifies sigma value.\n",
    "num=N/2\n",
    "sigma_1=[0,0, 0.01]\n",
    "sigma_2=[num,num,2.0]"
   ]
  },
  {
   "cell_type": "code",
   "execution_count": 12,
   "metadata": {},
   "outputs": [],
   "source": [
    "#code to find out A,B constants.\n",
    "A=sigma_2[2]/math.exp((-(sigma_2[0]-num)**2-(sigma_2[1]-num)**2)/1)\n",
    "B=((sigma_1[0]-num)**2+(sigma_1[1]-num)**2)/(math.log(A/sigma_1[2]))"
   ]
  },
  {
   "cell_type": "code",
   "execution_count": 13,
   "metadata": {},
   "outputs": [
    {
     "data": {
      "text/plain": [
       "(2.0, 3588.403390110064)"
      ]
     },
     "execution_count": 13,
     "metadata": {},
     "output_type": "execute_result"
    }
   ],
   "source": [
    "#Values of A,B constant.\n",
    "A,B"
   ]
  },
  {
   "cell_type": "code",
   "execution_count": 14,
   "metadata": {},
   "outputs": [],
   "source": [
    "#Values of A,B constant.\n",
    "A=2\n",
    "B=3588.403390110064"
   ]
  },
  {
   "cell_type": "code",
   "execution_count": 15,
   "metadata": {},
   "outputs": [],
   "source": [
    "#Function is defined to find the value of sigma in the sigma map.\n",
    "def Sigma_fn(n,m):\n",
    "    return A*math.exp((-(n-N/2)**2-(m-N/2)**2)/B)"
   ]
  },
  {
   "cell_type": "code",
   "execution_count": 16,
   "metadata": {},
   "outputs": [],
   "source": [
    "#Creation of the Sigma map.\n",
    "for p in range(0,N):\n",
    "    for q in range(0,N):\n",
    "        Sigma_matrix[p,q]=Sigma_fn(p,q)"
   ]
  },
  {
   "cell_type": "code",
   "execution_count": 17,
   "metadata": {},
   "outputs": [
    {
     "data": {
      "text/plain": [
       "array([[0.01      , 0.01055551, 0.01113567, ..., 0.01174118, 0.01113567,\n",
       "        0.01055551],\n",
       "       [0.01055551, 0.01114188, 0.01175427, ..., 0.01239341, 0.01175427,\n",
       "        0.01114188],\n",
       "       [0.01113567, 0.01175427, 0.01240032, ..., 0.01307459, 0.01240032,\n",
       "        0.01175427],\n",
       "       ...,\n",
       "       [0.01174118, 0.01239341, 0.01307459, ..., 0.01378553, 0.01307459,\n",
       "        0.01239341],\n",
       "       [0.01113567, 0.01175427, 0.01240032, ..., 0.01307459, 0.01240032,\n",
       "        0.01175427],\n",
       "       [0.01055551, 0.01114188, 0.01175427, ..., 0.01239341, 0.01175427,\n",
       "        0.01114188]])"
      ]
     },
     "execution_count": 17,
     "metadata": {},
     "output_type": "execute_result"
    }
   ],
   "source": [
    "#This is the Sigma_matrix\n",
    "Sigma_matrix"
   ]
  },
  {
   "cell_type": "code",
   "execution_count": 18,
   "metadata": {},
   "outputs": [],
   "source": [
    "#This is the used to find the G_matrix.intially for every (n,m) kernel matrix is found out and mapped on to the G_matrix.\n",
    "itr=0\n",
    "for n in range(0,N):\n",
    "    for m in range(0,N):\n",
    "        \n",
    "        #Code to find the kernel matrix.\n",
    "        sigma=Sigma_matrix[n,m]\n",
    "        \n",
    "        if sigma==0:\n",
    "            n1=math.ceil(6*sigma+1)\n",
    "            x=int((n1-1)/2)\n",
    "            hmn_=np.array(1)\n",
    "        else:\n",
    "            n1=math.ceil(6*sigma+1)\n",
    "            if n1%2==0:\n",
    "                n1=n1+1\n",
    "                x=int((n1-1)/2)\n",
    "            else:\n",
    "                n1=n1\n",
    "                x=int((n1-1)/2)\n",
    "            hmn=[]\n",
    "            for a in range(-x,x+1):\n",
    "                for b in range(-x,x+1):\n",
    "                    fn=((2*math.pi*(sigma**2))**-1)*math.exp(-0.5*((a**2+b**2)/(sigma**2)))\n",
    "                    hmn.append(fn)\n",
    "            hmn=np.array(hmn)\n",
    "            hmn=hmn.reshape(n1,n1)\n",
    "            tmp=0\n",
    "            for c in range(x-1):\n",
    "                tmp=hmn[c,:]\n",
    "                hmn[c,:]=hmn[n1-1-c,:]\n",
    "                hmn[n1-1-c,:]=tmp\n",
    "            hmn_=np.ravel(hmn)\n",
    "            \n",
    "            #normalising the h matrix(hmn)\n",
    "            hmn=hmn/sum(hmn_)\n",
    "            \n",
    "        #multiplying the values of the the F_matrix on to the Kernel matrix.     \n",
    "        hmn=hmn*F_matrix[n,m]\n",
    "        \n",
    "        itr += 1\n",
    "        \n",
    "        #mapping into G_matrix and this code finally gives us the G_matrix.\n",
    "        n2=math.floor(n1/2)\n",
    "        for i in range(n-n2,n+n2+1):\n",
    "            for j in range(m-n2,m+n2+1):\n",
    "                if i<0 or j<0 or i>=M or j>=N:\n",
    "                    continue\n",
    "                else:\n",
    "                    G_matrix[i,j]=G_matrix[i,j]+hmn[n-n2-i,m-n2-j]"
   ]
  },
  {
   "cell_type": "code",
   "execution_count": 19,
   "metadata": {},
   "outputs": [
    {
     "data": {
      "text/plain": [
       "array([[  0.,   0.,   0., ...,   0.,   0.,   0.],\n",
       "       [  0., 133., 154., ..., 151., 146., 149.],\n",
       "       [  0., 146., 164., ..., 162., 160., 157.],\n",
       "       ...,\n",
       "       [  0., 150., 149., ...,  89., 113., 138.],\n",
       "       [  0., 151., 153., ..., 166., 146., 117.],\n",
       "       [  0., 154., 151., ..., 159., 122., 141.]])"
      ]
     },
     "execution_count": 19,
     "metadata": {},
     "output_type": "execute_result"
    }
   ],
   "source": [
    "G_matrix"
   ]
  },
  {
   "cell_type": "code",
   "execution_count": 21,
   "metadata": {},
   "outputs": [],
   "source": [
    "#Converts the G_MATRIX to the Final_Image and Final_image is displayed.\n",
    "Final_image = Image.fromarray(G_matrix)\n",
    "Final_image.show()"
   ]
  },
  {
   "cell_type": "code",
   "execution_count": 22,
   "metadata": {},
   "outputs": [
    {
     "data": {
      "text/plain": [
       "True"
      ]
     },
     "execution_count": 22,
     "metadata": {},
     "output_type": "execute_result"
    }
   ],
   "source": [
    "#we are saving the image as name 'Globe_image_edited.png'.\n",
    "cv2.imwrite('Globe_image_edited.png',G_matrix) "
   ]
  },
  {
   "cell_type": "code",
   "execution_count": null,
   "metadata": {},
   "outputs": [],
   "source": []
  }
 ],
 "metadata": {
  "kernelspec": {
   "display_name": "Python 3",
   "language": "python",
   "name": "python3"
  },
  "language_info": {
   "codemirror_mode": {
    "name": "ipython",
    "version": 3
   },
   "file_extension": ".py",
   "mimetype": "text/x-python",
   "name": "python",
   "nbconvert_exporter": "python",
   "pygments_lexer": "ipython3",
   "version": "3.7.6"
  }
 },
 "nbformat": 4,
 "nbformat_minor": 4
}
